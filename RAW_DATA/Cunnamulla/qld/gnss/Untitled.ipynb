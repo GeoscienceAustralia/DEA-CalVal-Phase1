{
 "cells": [
  {
   "cell_type": "code",
   "execution_count": 1,
   "metadata": {},
   "outputs": [],
   "source": [
    "import pandas as pd\n",
    "import matplotlib.pyplot as plt"
   ]
  },
  {
   "cell_type": "code",
   "execution_count": 3,
   "metadata": {},
   "outputs": [],
   "source": [
    "df = pd.read_csv('differentialCorrectedASDPositionsM55_G94.csv')"
   ]
  },
  {
   "cell_type": "code",
   "execution_count": 4,
   "metadata": {},
   "outputs": [
    {
     "data": {
      "text/html": [
       "<div>\n",
       "<style scoped>\n",
       "    .dataframe tbody tr th:only-of-type {\n",
       "        vertical-align: middle;\n",
       "    }\n",
       "\n",
       "    .dataframe tbody tr th {\n",
       "        vertical-align: top;\n",
       "    }\n",
       "\n",
       "    .dataframe thead th {\n",
       "        text-align: right;\n",
       "    }\n",
       "</style>\n",
       "<table border=\"1\" class=\"dataframe\">\n",
       "  <thead>\n",
       "    <tr style=\"text-align: right;\">\n",
       "      <th></th>\n",
       "      <th>Unnamed: 0</th>\n",
       "      <th>times</th>\n",
       "      <th>lat</th>\n",
       "      <th>longt</th>\n",
       "      <th>elev</th>\n",
       "      <th>quality</th>\n",
       "      <th>files</th>\n",
       "    </tr>\n",
       "  </thead>\n",
       "  <tbody>\n",
       "    <tr>\n",
       "      <th>0</th>\n",
       "      <td>0</td>\n",
       "      <td>2021/11/14 23:58:32.000</td>\n",
       "      <td>-28.079540</td>\n",
       "      <td>146.049575</td>\n",
       "      <td>207.8228</td>\n",
       "      <td>1</td>\n",
       "      <td>site2_211115_10000000000.asd.txt</td>\n",
       "    </tr>\n",
       "    <tr>\n",
       "      <th>1</th>\n",
       "      <td>1</td>\n",
       "      <td>2021/11/14 23:58:35.000</td>\n",
       "      <td>-28.079540</td>\n",
       "      <td>146.049574</td>\n",
       "      <td>207.8223</td>\n",
       "      <td>1</td>\n",
       "      <td>site2_211115_10000000001.asd.txt</td>\n",
       "    </tr>\n",
       "    <tr>\n",
       "      <th>2</th>\n",
       "      <td>2</td>\n",
       "      <td>2021/11/14 23:58:37.000</td>\n",
       "      <td>-28.079540</td>\n",
       "      <td>146.049574</td>\n",
       "      <td>207.8273</td>\n",
       "      <td>1</td>\n",
       "      <td>site2_211115_10000000002.asd.txt</td>\n",
       "    </tr>\n",
       "    <tr>\n",
       "      <th>3</th>\n",
       "      <td>3</td>\n",
       "      <td>2021/11/14 23:58:40.000</td>\n",
       "      <td>-28.079540</td>\n",
       "      <td>146.049575</td>\n",
       "      <td>207.8220</td>\n",
       "      <td>1</td>\n",
       "      <td>site2_211115_10000000003.asd.txt</td>\n",
       "    </tr>\n",
       "    <tr>\n",
       "      <th>4</th>\n",
       "      <td>4</td>\n",
       "      <td>2021/11/14 23:58:42.000</td>\n",
       "      <td>-28.079540</td>\n",
       "      <td>146.049575</td>\n",
       "      <td>207.8198</td>\n",
       "      <td>1</td>\n",
       "      <td>site2_211115_10000000004.asd.txt</td>\n",
       "    </tr>\n",
       "    <tr>\n",
       "      <th>...</th>\n",
       "      <td>...</td>\n",
       "      <td>...</td>\n",
       "      <td>...</td>\n",
       "      <td>...</td>\n",
       "      <td>...</td>\n",
       "      <td>...</td>\n",
       "      <td>...</td>\n",
       "    </tr>\n",
       "    <tr>\n",
       "      <th>355</th>\n",
       "      <td>355</td>\n",
       "      <td>2021/11/15 00:20:17.000</td>\n",
       "      <td>-28.079888</td>\n",
       "      <td>146.050498</td>\n",
       "      <td>208.3841</td>\n",
       "      <td>1</td>\n",
       "      <td>site2_211115_10000000355.asd.txt</td>\n",
       "    </tr>\n",
       "    <tr>\n",
       "      <th>356</th>\n",
       "      <td>356</td>\n",
       "      <td>2021/11/15 00:20:19.000</td>\n",
       "      <td>-28.079871</td>\n",
       "      <td>146.050506</td>\n",
       "      <td>208.3795</td>\n",
       "      <td>1</td>\n",
       "      <td>site2_211115_10000000356.asd.txt</td>\n",
       "    </tr>\n",
       "    <tr>\n",
       "      <th>357</th>\n",
       "      <td>357</td>\n",
       "      <td>2021/11/15 00:20:22.000</td>\n",
       "      <td>-28.079845</td>\n",
       "      <td>146.050515</td>\n",
       "      <td>208.3831</td>\n",
       "      <td>1</td>\n",
       "      <td>site2_211115_10000000357.asd.txt</td>\n",
       "    </tr>\n",
       "    <tr>\n",
       "      <th>358</th>\n",
       "      <td>358</td>\n",
       "      <td>2021/11/15 00:20:24.000</td>\n",
       "      <td>-28.079828</td>\n",
       "      <td>146.050522</td>\n",
       "      <td>208.3836</td>\n",
       "      <td>1</td>\n",
       "      <td>site2_211115_10000000358.asd.txt</td>\n",
       "    </tr>\n",
       "    <tr>\n",
       "      <th>359</th>\n",
       "      <td>359</td>\n",
       "      <td>2021/11/15 00:20:27.000</td>\n",
       "      <td>-28.079803</td>\n",
       "      <td>146.050532</td>\n",
       "      <td>208.4126</td>\n",
       "      <td>1</td>\n",
       "      <td>site2_211115_10000000359.asd.txt</td>\n",
       "    </tr>\n",
       "  </tbody>\n",
       "</table>\n",
       "<p>360 rows × 7 columns</p>\n",
       "</div>"
      ],
      "text/plain": [
       "     Unnamed: 0                    times        lat       longt      elev  \\\n",
       "0             0  2021/11/14 23:58:32.000 -28.079540  146.049575  207.8228   \n",
       "1             1  2021/11/14 23:58:35.000 -28.079540  146.049574  207.8223   \n",
       "2             2  2021/11/14 23:58:37.000 -28.079540  146.049574  207.8273   \n",
       "3             3  2021/11/14 23:58:40.000 -28.079540  146.049575  207.8220   \n",
       "4             4  2021/11/14 23:58:42.000 -28.079540  146.049575  207.8198   \n",
       "..          ...                      ...        ...         ...       ...   \n",
       "355         355  2021/11/15 00:20:17.000 -28.079888  146.050498  208.3841   \n",
       "356         356  2021/11/15 00:20:19.000 -28.079871  146.050506  208.3795   \n",
       "357         357  2021/11/15 00:20:22.000 -28.079845  146.050515  208.3831   \n",
       "358         358  2021/11/15 00:20:24.000 -28.079828  146.050522  208.3836   \n",
       "359         359  2021/11/15 00:20:27.000 -28.079803  146.050532  208.4126   \n",
       "\n",
       "     quality                             files  \n",
       "0          1  site2_211115_10000000000.asd.txt  \n",
       "1          1  site2_211115_10000000001.asd.txt  \n",
       "2          1  site2_211115_10000000002.asd.txt  \n",
       "3          1  site2_211115_10000000003.asd.txt  \n",
       "4          1  site2_211115_10000000004.asd.txt  \n",
       "..       ...                               ...  \n",
       "355        1  site2_211115_10000000355.asd.txt  \n",
       "356        1  site2_211115_10000000356.asd.txt  \n",
       "357        1  site2_211115_10000000357.asd.txt  \n",
       "358        1  site2_211115_10000000358.asd.txt  \n",
       "359        1  site2_211115_10000000359.asd.txt  \n",
       "\n",
       "[360 rows x 7 columns]"
      ]
     },
     "execution_count": 4,
     "metadata": {},
     "output_type": "execute_result"
    }
   ],
   "source": [
    "df"
   ]
  },
  {
   "cell_type": "code",
   "execution_count": 5,
   "metadata": {},
   "outputs": [
    {
     "data": {
      "text/plain": [
       "-28.080735154"
      ]
     },
     "execution_count": 5,
     "metadata": {},
     "output_type": "execute_result"
    }
   ],
   "source": [
    "df.lat.min()"
   ]
  },
  {
   "cell_type": "code",
   "execution_count": 8,
   "metadata": {},
   "outputs": [
    {
     "data": {
      "text/plain": [
       "132.6999449997217"
      ]
     },
     "execution_count": 8,
     "metadata": {},
     "output_type": "execute_result"
    }
   ],
   "source": [
    "(df.lat.max()-df.lat.min())*111000"
   ]
  },
  {
   "cell_type": "code",
   "execution_count": null,
   "metadata": {},
   "outputs": [],
   "source": []
  }
 ],
 "metadata": {
  "kernelspec": {
   "display_name": "Python 3",
   "language": "python",
   "name": "python3"
  },
  "language_info": {
   "codemirror_mode": {
    "name": "ipython",
    "version": 3
   },
   "file_extension": ".py",
   "mimetype": "text/x-python",
   "name": "python",
   "nbconvert_exporter": "python",
   "pygments_lexer": "ipython3",
   "version": "3.6.10"
  }
 },
 "nbformat": 4,
 "nbformat_minor": 4
}
